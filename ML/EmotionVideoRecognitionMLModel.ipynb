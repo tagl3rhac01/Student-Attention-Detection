{
  "nbformat": 4,
  "nbformat_minor": 0,
  "metadata": {
    "colab": {
      "name": "EmotionVideoRecognition.ipynb",
      "provenance": [],
      "collapsed_sections": [
        "YGs9yb3PSEVa",
        "ftuQgdu7SMCB",
        "dG-uiQ2hOq8X",
        "15vZrEAgyCk_",
        "cwh26sfKylKv",
        "4pdfA_RQzi_d",
        "hArqq0a4znS2"
      ],
      "toc_visible": true
    },
    "kernelspec": {
      "name": "python3",
      "display_name": "Python 3"
    },
    "accelerator": "GPU"
  },
  "cells": [
    {
      "cell_type": "markdown",
      "metadata": {
        "id": "L80uA_LpR_9J"
      },
      "source": [
        "# 1. Introduction\n",
        "\n",
        "The model uses FER-2013 dataset for Face Emotion Recognition (https://datarepository.wolframcloud.com/resources/FER-2013).\n",
        "\n",
        "Link to the reference research paper used in this notebook:\n",
        "https://ieeexplore.ieee.org/document/7477450"
      ]
    },
    {
      "cell_type": "markdown",
      "metadata": {
        "id": "YGs9yb3PSEVa"
      },
      "source": [
        "# 2. Importing the libraries"
      ]
    },
    {
      "cell_type": "code",
      "metadata": {
        "id": "C9vjp4PHPBTH"
      },
      "source": [
        "import numpy as np\n",
        "import pandas as pd\n",
        "import matplotlib.pyplot as plt\n",
        "\n",
        "import tensorflow.keras\n",
        "from tensorflow.keras.preprocessing.image import ImageDataGenerator, array_to_img, img_to_array, load_img\n",
        "from tensorflow.keras.callbacks import TensorBoard\n",
        "from tensorflow.keras.models import Sequential\n",
        "from tensorflow.keras.layers import Dense, Dropout, Activation, Flatten, BatchNormalization, Input, GlobalAveragePooling2D\n",
        "from tensorflow.keras.layers import Conv2D, MaxPooling2D, SeparableConv2D\n",
        "from tensorflow.keras.layers import Dense, Dropout, Activation, Flatten, Conv2D, MaxPooling2D, SeparableConv2D, ZeroPadding2D, UpSampling2D, BatchNormalization, Input, GlobalAveragePooling2D, AveragePooling2D\n",
        "\n",
        "from tensorflow.keras.regularizers import l2\n",
        "from tensorflow.keras.optimizers import SGD, RMSprop\n",
        "from tensorflow.keras.utils import to_categorical\n",
        "from tensorflow.keras.models import Model\n",
        "from tensorflow.keras import layers\n",
        "from tensorflow.keras.callbacks import EarlyStopping, ModelCheckpoint\n",
        "\n",
        "from keras import backend as K\n",
        "from keras.models import Sequential, Model, load_model, model_from_json\n",
        "\n",
        "from sklearn.preprocessing import OneHotEncoder\n",
        "from sklearn.model_selection import train_test_split\n",
        "from sklearn.metrics import accuracy_score\n",
        "\n",
        "import h5py\n",
        "from keras.models import model_from_json\n",
        "import pickle\n",
        "import os"
      ],
      "execution_count": null,
      "outputs": []
    },
    {
      "cell_type": "markdown",
      "metadata": {
        "id": "ftuQgdu7SMCB"
      },
      "source": [
        "# 3. Importing data from drive"
      ]
    },
    {
      "cell_type": "code",
      "metadata": {
        "id": "6x9JiT6DQdOj",
        "colab": {
          "base_uri": "https://localhost:8080/"
        },
        "outputId": "746b9278-90e1-4df9-a468-07281c9c7f33"
      },
      "source": [
        "from google.colab import drive\n",
        "drive.mount('/content/drive')"
      ],
      "execution_count": null,
      "outputs": [
        {
          "output_type": "stream",
          "text": [
            "Mounted at /content/drive\n"
          ],
          "name": "stdout"
        }
      ]
    },
    {
      "cell_type": "code",
      "metadata": {
        "id": "XTecD8e5PdQC"
      },
      "source": [
        "X_train = np.load(\"drive/MyDrive/EmotionVideoModel/X_train.npy\")\n",
        "X_test = np.load(\"drive/MyDrive/EmotionVideoModel/X_test.npy\")\n",
        "y_train = np.load(\"drive/MyDrive/EmotionVideoModel/y_train.npy\")\n",
        "y_test = np.load(\"drive/MyDrive/EmotionVideoModel/y_test.npy\")"
      ],
      "execution_count": null,
      "outputs": []
    },
    {
      "cell_type": "code",
      "metadata": {
        "colab": {
          "base_uri": "https://localhost:8080/"
        },
        "id": "gwsP43jFuXVE",
        "outputId": "5d4ff6aa-d33b-4ad1-cb7c-c73a1cf92a61"
      },
      "source": [
        "print (X_train.shape)\n",
        "print (X_test.shape)"
      ],
      "execution_count": null,
      "outputs": [
        {
          "output_type": "stream",
          "text": [
            "(28709, 48, 48, 1)\n",
            "(3589, 48, 48, 1)\n"
          ],
          "name": "stdout"
        }
      ]
    },
    {
      "cell_type": "code",
      "metadata": {
        "id": "CxLSVpgqPvEV"
      },
      "source": [
        "shape_x = 48\n",
        "shape_y = 48\n",
        "nRows,nCols,nDims = X_train.shape[1:]\n",
        "input_shape = (nRows, nCols, nDims)\n",
        "classes = np.unique(y_train)\n",
        "nClasses = len(classes)"
      ],
      "execution_count": null,
      "outputs": []
    },
    {
      "cell_type": "code",
      "metadata": {
        "id": "Z-4DezqceX5T"
      },
      "source": [
        "dic = { 0: \"Angry\",\n",
        "       1: \"Disgust\",\n",
        "       2:\"Fear\",\n",
        "       3:\"Happy\",\n",
        "       4:\"Sad\",\n",
        "       5:\"Surprise\",\n",
        "       6:\"Neutral\"}"
      ],
      "execution_count": null,
      "outputs": []
    },
    {
      "cell_type": "markdown",
      "metadata": {
        "id": "dG-uiQ2hOq8X"
      },
      "source": [
        "# 4. CNN model for emotion recognition"
      ]
    },
    {
      "cell_type": "markdown",
      "metadata": {
        "id": "15vZrEAgyCk_"
      },
      "source": [
        "##a) Creating the model\n",
        "\n",
        "2D CNN model that uses Conv, BatchNorm, MaxPooling layers. Dropout and EarlyStoppng is used to prevent overfitting"
      ]
    },
    {
      "cell_type": "code",
      "metadata": {
        "id": "ERxN3AIKZ0bZ",
        "colab": {
          "base_uri": "https://localhost:8080/"
        },
        "outputId": "26c1a0eb-9f7c-42c9-8b16-53ebfb1eb9f5"
      },
      "source": [
        "input_shape = (48, 48, 1)\n",
        "model = Sequential()\n",
        "model.add(Conv2D(32, kernel_size=(3, 3), padding='same', activation='relu', input_shape =input_shape))\n",
        "model.add(Conv2D(64, kernel_size=(3, 3), activation='relu', padding='same'))\n",
        "model.add(BatchNormalization())\n",
        "model.add(MaxPooling2D(2, 2))\n",
        "model.add(Dropout(0.25))\n",
        "\n",
        "model.add(Conv2D(128, kernel_size=(3, 3), activation='relu', padding='same'))\n",
        "model.add(Conv2D(256, kernel_size=(3, 3), activation='relu'))\n",
        "model.add(BatchNormalization())\n",
        "model.add(MaxPooling2D(pool_size=(2, 2)))\n",
        "model.add(Dropout(0.25))\n",
        "\n",
        "model.add(Flatten())\n",
        "model.add(Dense(1024, activation='relu'))\n",
        "model.add(Dropout(0.5))\n",
        "\n",
        "model.add(Dense(7, activation='softmax'))\n",
        "\n",
        "model.summary()"
      ],
      "execution_count": null,
      "outputs": [
        {
          "output_type": "stream",
          "text": [
            "Model: \"sequential\"\n",
            "_________________________________________________________________\n",
            "Layer (type)                 Output Shape              Param #   \n",
            "=================================================================\n",
            "conv2d (Conv2D)              (None, 48, 48, 32)        320       \n",
            "_________________________________________________________________\n",
            "conv2d_1 (Conv2D)            (None, 48, 48, 64)        18496     \n",
            "_________________________________________________________________\n",
            "batch_normalization (BatchNo (None, 48, 48, 64)        256       \n",
            "_________________________________________________________________\n",
            "max_pooling2d (MaxPooling2D) (None, 24, 24, 64)        0         \n",
            "_________________________________________________________________\n",
            "dropout (Dropout)            (None, 24, 24, 64)        0         \n",
            "_________________________________________________________________\n",
            "conv2d_2 (Conv2D)            (None, 24, 24, 128)       73856     \n",
            "_________________________________________________________________\n",
            "conv2d_3 (Conv2D)            (None, 22, 22, 256)       295168    \n",
            "_________________________________________________________________\n",
            "batch_normalization_1 (Batch (None, 22, 22, 256)       1024      \n",
            "_________________________________________________________________\n",
            "max_pooling2d_1 (MaxPooling2 (None, 11, 11, 256)       0         \n",
            "_________________________________________________________________\n",
            "dropout_1 (Dropout)          (None, 11, 11, 256)       0         \n",
            "_________________________________________________________________\n",
            "flatten (Flatten)            (None, 30976)             0         \n",
            "_________________________________________________________________\n",
            "dense (Dense)                (None, 1024)              31720448  \n",
            "_________________________________________________________________\n",
            "dropout_2 (Dropout)          (None, 1024)              0         \n",
            "_________________________________________________________________\n",
            "dense_1 (Dense)              (None, 7)                 7175      \n",
            "=================================================================\n",
            "Total params: 32,116,743\n",
            "Trainable params: 32,116,103\n",
            "Non-trainable params: 640\n",
            "_________________________________________________________________\n"
          ],
          "name": "stdout"
        }
      ]
    },
    {
      "cell_type": "code",
      "metadata": {
        "id": "pPRyAc5wZ69i",
        "colab": {
          "base_uri": "https://localhost:8080/"
        },
        "outputId": "16928256-9516-4d4c-9ad0-492cbff2e51b"
      },
      "source": [
        "model.compile(optimizer='adam', loss='categorical_crossentropy', metrics=['accuracy'])\n",
        "\n",
        "batch_size = 64\n",
        "epochs = 200\n",
        "\n",
        "datagen = ImageDataGenerator(\n",
        "        zoom_range=0.20,          \n",
        "        rotation_range=20,      \n",
        "        width_shift_range=0.20,   \n",
        "        height_shift_range=0.20,   \n",
        "        vertical_flip=True)     \n",
        "\n",
        "earlyStopping = EarlyStopping(monitor='val_accuracy', patience=10, verbose=0, mode='max')\n",
        "\n",
        "if (os.path.exists(\"weights\")==False):\n",
        "  os.mkdir(\"weights\")\n",
        "\n",
        "filepath =\"weights/weights-{epoch:02d}-{val_accuracy:.2f}.hdf5\"\n",
        "model_checkpoint = tensorflow.keras.callbacks.ModelCheckpoint(filepath,\n",
        "    monitor='val_accuracy',\n",
        "    mode='max',\n",
        "    save_weights_only=True,\n",
        "    save_best_only=True)\n",
        "\n",
        "history = model.fit(\n",
        "    X_train, y_train,\n",
        "    epochs = epochs,\n",
        "    callbacks=[earlyStopping, model_checkpoint],\n",
        "    validation_data=(X_test, y_test))\n"
      ],
      "execution_count": null,
      "outputs": [
        {
          "output_type": "stream",
          "text": [
            "Epoch 1/200\n",
            "898/898 [==============================] - 26s 21ms/step - loss: 6.9324 - accuracy: 0.2320 - val_loss: 1.6735 - val_accuracy: 0.3165\n",
            "Epoch 2/200\n",
            "898/898 [==============================] - 18s 20ms/step - loss: 1.7333 - accuracy: 0.2925 - val_loss: 1.6174 - val_accuracy: 0.3550\n",
            "Epoch 3/200\n",
            "898/898 [==============================] - 18s 21ms/step - loss: 1.6451 - accuracy: 0.3377 - val_loss: 1.5287 - val_accuracy: 0.4065\n",
            "Epoch 4/200\n",
            "898/898 [==============================] - 19s 21ms/step - loss: 1.5885 - accuracy: 0.3630 - val_loss: 1.5005 - val_accuracy: 0.4296\n",
            "Epoch 5/200\n",
            "898/898 [==============================] - 19s 21ms/step - loss: 1.5334 - accuracy: 0.3892 - val_loss: 1.4446 - val_accuracy: 0.4416\n",
            "Epoch 6/200\n",
            "898/898 [==============================] - 19s 21ms/step - loss: 1.4917 - accuracy: 0.4138 - val_loss: 1.5003 - val_accuracy: 0.4283\n",
            "Epoch 7/200\n",
            "898/898 [==============================] - 19s 21ms/step - loss: 1.4630 - accuracy: 0.4294 - val_loss: 1.3910 - val_accuracy: 0.4653\n",
            "Epoch 8/200\n",
            "898/898 [==============================] - 19s 21ms/step - loss: 1.4191 - accuracy: 0.4468 - val_loss: 1.4048 - val_accuracy: 0.4726\n",
            "Epoch 9/200\n",
            "898/898 [==============================] - 19s 21ms/step - loss: 1.3723 - accuracy: 0.4717 - val_loss: 1.3463 - val_accuracy: 0.4834\n",
            "Epoch 10/200\n",
            "898/898 [==============================] - 19s 21ms/step - loss: 1.3539 - accuracy: 0.4802 - val_loss: 1.2917 - val_accuracy: 0.5049\n",
            "Epoch 11/200\n",
            "898/898 [==============================] - 19s 21ms/step - loss: 1.3179 - accuracy: 0.4912 - val_loss: 1.3311 - val_accuracy: 0.5113\n",
            "Epoch 12/200\n",
            "898/898 [==============================] - 19s 21ms/step - loss: 1.2797 - accuracy: 0.5049 - val_loss: 1.2550 - val_accuracy: 0.5391\n",
            "Epoch 13/200\n",
            "898/898 [==============================] - 19s 21ms/step - loss: 1.2291 - accuracy: 0.5274 - val_loss: 1.2659 - val_accuracy: 0.5358\n",
            "Epoch 14/200\n",
            "898/898 [==============================] - 19s 21ms/step - loss: 1.2109 - accuracy: 0.5294 - val_loss: 1.2331 - val_accuracy: 0.5469\n",
            "Epoch 15/200\n",
            "898/898 [==============================] - 19s 21ms/step - loss: 1.1714 - accuracy: 0.5533 - val_loss: 1.2039 - val_accuracy: 0.5520\n",
            "Epoch 16/200\n",
            "898/898 [==============================] - 19s 21ms/step - loss: 1.1310 - accuracy: 0.5718 - val_loss: 1.2261 - val_accuracy: 0.5486\n",
            "Epoch 17/200\n",
            "898/898 [==============================] - 19s 21ms/step - loss: 1.1139 - accuracy: 0.5780 - val_loss: 1.2676 - val_accuracy: 0.5453\n",
            "Epoch 18/200\n",
            "898/898 [==============================] - 19s 21ms/step - loss: 1.0685 - accuracy: 0.5902 - val_loss: 1.2374 - val_accuracy: 0.5372\n",
            "Epoch 19/200\n",
            "898/898 [==============================] - 19s 21ms/step - loss: 1.0509 - accuracy: 0.5980 - val_loss: 1.3147 - val_accuracy: 0.5651\n",
            "Epoch 20/200\n",
            "898/898 [==============================] - 19s 21ms/step - loss: 1.0128 - accuracy: 0.6132 - val_loss: 1.2112 - val_accuracy: 0.5461\n",
            "Epoch 21/200\n",
            "898/898 [==============================] - 19s 21ms/step - loss: 0.9884 - accuracy: 0.6153 - val_loss: 1.2217 - val_accuracy: 0.5508\n",
            "Epoch 22/200\n",
            "898/898 [==============================] - 19s 21ms/step - loss: 0.9510 - accuracy: 0.6355 - val_loss: 1.2730 - val_accuracy: 0.5773\n",
            "Epoch 23/200\n",
            "898/898 [==============================] - 19s 21ms/step - loss: 0.9303 - accuracy: 0.6421 - val_loss: 1.2519 - val_accuracy: 0.5720\n",
            "Epoch 24/200\n",
            "898/898 [==============================] - 19s 21ms/step - loss: 0.8926 - accuracy: 0.6629 - val_loss: 1.2692 - val_accuracy: 0.5717\n",
            "Epoch 25/200\n",
            "898/898 [==============================] - 19s 21ms/step - loss: 0.8754 - accuracy: 0.6688 - val_loss: 1.4162 - val_accuracy: 0.5743\n",
            "Epoch 26/200\n",
            "898/898 [==============================] - 19s 21ms/step - loss: 0.8449 - accuracy: 0.6761 - val_loss: 1.2762 - val_accuracy: 0.5653\n",
            "Epoch 27/200\n",
            "898/898 [==============================] - 19s 21ms/step - loss: 0.8377 - accuracy: 0.6832 - val_loss: 1.2590 - val_accuracy: 0.5684\n",
            "Epoch 28/200\n",
            "898/898 [==============================] - 19s 21ms/step - loss: 0.7983 - accuracy: 0.6979 - val_loss: 1.2861 - val_accuracy: 0.5832\n",
            "Epoch 29/200\n",
            "898/898 [==============================] - 19s 21ms/step - loss: 0.8005 - accuracy: 0.6961 - val_loss: 1.2635 - val_accuracy: 0.5704\n",
            "Epoch 30/200\n",
            "898/898 [==============================] - 19s 21ms/step - loss: 0.7677 - accuracy: 0.7106 - val_loss: 2.0100 - val_accuracy: 0.5609\n",
            "Epoch 31/200\n",
            "898/898 [==============================] - 19s 21ms/step - loss: 0.7656 - accuracy: 0.7121 - val_loss: 1.2954 - val_accuracy: 0.5801\n",
            "Epoch 32/200\n",
            "898/898 [==============================] - 19s 21ms/step - loss: 0.7303 - accuracy: 0.7212 - val_loss: 1.2669 - val_accuracy: 0.5770\n",
            "Epoch 33/200\n",
            "898/898 [==============================] - 19s 21ms/step - loss: 0.7184 - accuracy: 0.7299 - val_loss: 1.3334 - val_accuracy: 0.5770\n",
            "Epoch 34/200\n",
            "898/898 [==============================] - 19s 21ms/step - loss: 0.7078 - accuracy: 0.7284 - val_loss: 1.2508 - val_accuracy: 0.5756\n",
            "Epoch 35/200\n",
            "898/898 [==============================] - 19s 21ms/step - loss: 0.7041 - accuracy: 0.7364 - val_loss: 1.2919 - val_accuracy: 0.5779\n",
            "Epoch 36/200\n",
            "898/898 [==============================] - 19s 21ms/step - loss: 0.6832 - accuracy: 0.7404 - val_loss: 1.3093 - val_accuracy: 0.5782\n",
            "Epoch 37/200\n",
            "898/898 [==============================] - 19s 21ms/step - loss: 0.6677 - accuracy: 0.7478 - val_loss: 1.5351 - val_accuracy: 0.5882\n",
            "Epoch 38/200\n",
            "898/898 [==============================] - 19s 21ms/step - loss: 0.6497 - accuracy: 0.7516 - val_loss: 1.5291 - val_accuracy: 0.5904\n",
            "Epoch 39/200\n",
            "898/898 [==============================] - 19s 21ms/step - loss: 0.6390 - accuracy: 0.7588 - val_loss: 1.5251 - val_accuracy: 0.5874\n",
            "Epoch 40/200\n",
            "898/898 [==============================] - 19s 21ms/step - loss: 0.6362 - accuracy: 0.7603 - val_loss: 1.6422 - val_accuracy: 0.5949\n",
            "Epoch 41/200\n",
            "898/898 [==============================] - 19s 21ms/step - loss: 0.6034 - accuracy: 0.7722 - val_loss: 1.3597 - val_accuracy: 0.5804\n",
            "Epoch 42/200\n",
            "898/898 [==============================] - 19s 21ms/step - loss: 0.6032 - accuracy: 0.7754 - val_loss: 1.4765 - val_accuracy: 0.5748\n",
            "Epoch 43/200\n",
            "898/898 [==============================] - 19s 21ms/step - loss: 0.5796 - accuracy: 0.7802 - val_loss: 1.4618 - val_accuracy: 0.5893\n",
            "Epoch 44/200\n",
            "898/898 [==============================] - 19s 21ms/step - loss: 0.5636 - accuracy: 0.7901 - val_loss: 1.4991 - val_accuracy: 0.5946\n",
            "Epoch 45/200\n",
            "898/898 [==============================] - 19s 21ms/step - loss: 0.5627 - accuracy: 0.7894 - val_loss: 1.3146 - val_accuracy: 0.5734\n",
            "Epoch 46/200\n",
            "898/898 [==============================] - 19s 21ms/step - loss: 0.5561 - accuracy: 0.7940 - val_loss: 1.4796 - val_accuracy: 0.5874\n",
            "Epoch 47/200\n",
            "898/898 [==============================] - 19s 21ms/step - loss: 0.5487 - accuracy: 0.7940 - val_loss: 1.5161 - val_accuracy: 0.5907\n",
            "Epoch 48/200\n",
            "898/898 [==============================] - 19s 21ms/step - loss: 0.5359 - accuracy: 0.8005 - val_loss: 1.7357 - val_accuracy: 0.6032\n",
            "Epoch 49/200\n",
            "898/898 [==============================] - 19s 21ms/step - loss: 0.5296 - accuracy: 0.8013 - val_loss: 1.4813 - val_accuracy: 0.5882\n",
            "Epoch 50/200\n",
            "898/898 [==============================] - 19s 21ms/step - loss: 0.5272 - accuracy: 0.8041 - val_loss: 1.5499 - val_accuracy: 0.5904\n",
            "Epoch 51/200\n",
            "898/898 [==============================] - 19s 21ms/step - loss: 0.5281 - accuracy: 0.8025 - val_loss: 1.4909 - val_accuracy: 0.5982\n",
            "Epoch 52/200\n",
            "898/898 [==============================] - 19s 21ms/step - loss: 0.5256 - accuracy: 0.8051 - val_loss: 1.6009 - val_accuracy: 0.5904\n",
            "Epoch 53/200\n",
            "898/898 [==============================] - 19s 21ms/step - loss: 0.5042 - accuracy: 0.8134 - val_loss: 1.5009 - val_accuracy: 0.5968\n",
            "Epoch 54/200\n",
            "898/898 [==============================] - 19s 21ms/step - loss: 0.4951 - accuracy: 0.8160 - val_loss: 1.6358 - val_accuracy: 0.5993\n",
            "Epoch 55/200\n",
            "898/898 [==============================] - 19s 21ms/step - loss: 0.5040 - accuracy: 0.8125 - val_loss: 1.3863 - val_accuracy: 0.5874\n",
            "Epoch 56/200\n",
            "898/898 [==============================] - 19s 21ms/step - loss: 0.4842 - accuracy: 0.8189 - val_loss: 1.3977 - val_accuracy: 0.5935\n",
            "Epoch 57/200\n",
            "898/898 [==============================] - 19s 21ms/step - loss: 0.4772 - accuracy: 0.8216 - val_loss: 1.4517 - val_accuracy: 0.6060\n",
            "Epoch 58/200\n",
            "898/898 [==============================] - 19s 21ms/step - loss: 0.4750 - accuracy: 0.8224 - val_loss: 1.3902 - val_accuracy: 0.5837\n",
            "Epoch 59/200\n",
            "898/898 [==============================] - 19s 21ms/step - loss: 0.4537 - accuracy: 0.8286 - val_loss: 1.5849 - val_accuracy: 0.5993\n",
            "Epoch 60/200\n",
            "898/898 [==============================] - 19s 21ms/step - loss: 0.4637 - accuracy: 0.8281 - val_loss: 1.5175 - val_accuracy: 0.5815\n",
            "Epoch 61/200\n",
            "898/898 [==============================] - 19s 21ms/step - loss: 0.4364 - accuracy: 0.8383 - val_loss: 1.5571 - val_accuracy: 0.5915\n",
            "Epoch 62/200\n",
            "898/898 [==============================] - 19s 21ms/step - loss: 0.4396 - accuracy: 0.8381 - val_loss: 1.4952 - val_accuracy: 0.5907\n",
            "Epoch 63/200\n",
            "898/898 [==============================] - 19s 21ms/step - loss: 0.4576 - accuracy: 0.8298 - val_loss: 1.4516 - val_accuracy: 0.5926\n",
            "Epoch 64/200\n",
            "898/898 [==============================] - 19s 21ms/step - loss: 0.4366 - accuracy: 0.8350 - val_loss: 1.5663 - val_accuracy: 0.5807\n",
            "Epoch 65/200\n",
            "898/898 [==============================] - 19s 21ms/step - loss: 0.4510 - accuracy: 0.8347 - val_loss: 1.6555 - val_accuracy: 0.5826\n",
            "Epoch 66/200\n",
            "898/898 [==============================] - 19s 21ms/step - loss: 0.4470 - accuracy: 0.8363 - val_loss: 1.5040 - val_accuracy: 0.5918\n",
            "Epoch 67/200\n",
            "898/898 [==============================] - 19s 21ms/step - loss: 0.4430 - accuracy: 0.8380 - val_loss: 1.6664 - val_accuracy: 0.5874\n"
          ],
          "name": "stdout"
        }
      ]
    },
    {
      "cell_type": "markdown",
      "metadata": {
        "id": "cwh26sfKylKv"
      },
      "source": [
        "##c) Plotting the accuracy and loss graphs"
      ]
    },
    {
      "cell_type": "code",
      "metadata": {
        "colab": {
          "base_uri": "https://localhost:8080/",
          "height": 591
        },
        "id": "ymgHST-5Xz5z",
        "outputId": "be84513b-cc7a-4e7f-cf75-77869a088f70"
      },
      "source": [
        "# model\n",
        "\n",
        "print(history.history.keys())\n",
        "#  \"Accuracy\"\n",
        "plt.plot(history.history['accuracy'])\n",
        "plt.plot(history.history['val_accuracy'])\n",
        "plt.title('model accuracy')\n",
        "plt.ylabel('accuracy')\n",
        "plt.xlabel('epoch')\n",
        "plt.legend(['train', 'validation'], loc='upper left')\n",
        "plt.show()\n",
        "# \"Loss\"\n",
        "plt.plot(history.history['loss'])\n",
        "plt.plot(history.history['val_loss'])\n",
        "plt.title('model loss')\n",
        "plt.ylabel('loss')\n",
        "plt.xlabel('epoch')\n",
        "plt.legend(['train', 'validation'], loc='upper left')\n",
        "plt.show()"
      ],
      "execution_count": null,
      "outputs": [
        {
          "output_type": "stream",
          "text": [
            "dict_keys(['loss', 'accuracy', 'val_loss', 'val_accuracy'])\n"
          ],
          "name": "stdout"
        },
        {
          "output_type": "display_data",
          "data": {
            "image/png": "[encoded data removed]",
            "text/plain": [
              "<Figure size 432x288 with 1 Axes>"
            ]
          },
          "metadata": {
            "tags": [],
            "needs_background": "light"
          }
        },
        {
          "output_type": "display_data",
          "data": {
            "image/png": "[encoded data removed]",
            "text/plain": [
              "<Figure size 432x288 with 1 Axes>"
            ]
          },
          "metadata": {
            "tags": [],
            "needs_background": "light"
          }
        }
      ]
    },
    {
      "cell_type": "markdown",
      "metadata": {
        "id": "4pdfA_RQzi_d"
      },
      "source": [
        "##d) Saving the model and weights"
      ]
    },
    {
      "cell_type": "code",
      "metadata": {
        "colab": {
          "base_uri": "https://localhost:8080/"
        },
        "id": "KVmRG70jgNkd",
        "outputId": "6430027b-1379-4af6-c824-5b0781c99bdd"
      },
      "source": [
        "model_json = model.to_json()\n",
        "\n",
        "with open(\"model_num.json\", \"w\") as json_file:\n",
        "    json_file.write(model_json)\n",
        "\n",
        "model.save_weights(\"model_num.h5\")\n",
        "\n",
        "json_file = open('model_num.json', 'r')\n",
        "loaded_model_json = json_file.read()\n",
        "json_file.close()\n",
        "loaded_model = model_from_json(loaded_model_json)\n",
        "\n",
        "# load weights into new model\n",
        "loaded_model.load_weights(\"model_num.h5\")\n",
        "print(\"Loaded model from disk\")\n",
        "\n",
        "loaded_model.save('model_num.hdf5')"
      ],
      "execution_count": null,
      "outputs": [
        {
          "output_type": "stream",
          "text": [
            "Loaded model from disk\n"
          ],
          "name": "stdout"
        }
      ]
    },
    {
      "cell_type": "markdown",
      "metadata": {
        "id": "hArqq0a4znS2"
      },
      "source": [
        "##e) Predicting the test data from the model"
      ]
    },
    {
      "cell_type": "code",
      "metadata": {
        "colab": {
          "base_uri": "https://localhost:8080/"
        },
        "id": "0LMe4XCSJm2X",
        "outputId": "1b006579-ef27-4c9b-c935-102b2912b62e"
      },
      "source": [
        "\n",
        "pred_ = model.predict(X_test.reshape(-1, shape_x, shape_y, 1))\n",
        "\n",
        "pred_[0]\n",
        "\n",
        "# accuracy_score(y_test, pred_)\n",
        "pred_ = np.argmax(pred_, axis=1)\n",
        "y_test_ = np.argmax(y_test, axis=1)\n",
        "\n",
        "print (y_test_.shape)\n",
        "count = 0;\n",
        "for i in range (len(y_test_)):\n",
        "  if y_test_[i]==pred_[i]:\n",
        "    count+=1\n",
        "print (count/len(y_test_))"
      ],
      "execution_count": null,
      "outputs": [
        {
          "output_type": "stream",
          "text": [
            "(3589,)\n",
            "0.5873502368347729\n"
          ],
          "name": "stdout"
        }
      ]
    }
  ]
}